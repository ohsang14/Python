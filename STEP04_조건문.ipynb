{
  "nbformat": 4,
  "nbformat_minor": 0,
  "metadata": {
    "colab": {
      "provenance": [],
      "authorship_tag": "ABX9TyMEICSsTArYsJxtK3eSSQlw",
      "include_colab_link": true
    },
    "kernelspec": {
      "name": "python3",
      "display_name": "Python 3"
    },
    "language_info": {
      "name": "python"
    }
  },
  "cells": [
    {
      "cell_type": "markdown",
      "metadata": {
        "id": "view-in-github",
        "colab_type": "text"
      },
      "source": [
        "<a href=\"https://colab.research.google.com/github/ohsang14/Python/blob/main/STEP04_%EC%A1%B0%EA%B1%B4%EB%AC%B8.ipynb\" target=\"_parent\"><img src=\"https://colab.research.google.com/assets/colab-badge.svg\" alt=\"Open In Colab\"/></a>"
      ]
    },
    {
      "cell_type": "markdown",
      "source": [
        "#01.if 조건문"
      ],
      "metadata": {
        "id": "YbpwZI3PUuhG"
      }
    },
    {
      "cell_type": "code",
      "source": [
        "selena_lectur = True\n",
        "\n",
        "if selena_lectur:\n",
        "  print(\"파이썬 정복할수 이따!\")"
      ],
      "metadata": {
        "colab": {
          "base_uri": "https://localhost:8080/"
        },
        "id": "0htDkulUUzT0",
        "outputId": "43e5bef9-1323-4580-f991-7773a6b08db6"
      },
      "execution_count": 2,
      "outputs": [
        {
          "output_type": "stream",
          "name": "stdout",
          "text": [
            "파이썬 정복할수 이따!\n"
          ]
        }
      ]
    },
    {
      "cell_type": "code",
      "source": [
        "caffeine = True\n",
        "\n",
        "if caffeine:\n",
        "  print(\"americano\")\n",
        "  print(\"cafe latte\")\n",
        "  print(\"cold brew coffee\")"
      ],
      "metadata": {
        "colab": {
          "base_uri": "https://localhost:8080/"
        },
        "id": "Ko98lpCoU72D",
        "outputId": "7f9da9fc-02a3-4745-eee4-2fb392a70abc"
      },
      "execution_count": 3,
      "outputs": [
        {
          "output_type": "stream",
          "name": "stdout",
          "text": [
            "americano\n",
            "cafe latte\n",
            "cold brew coffee\n"
          ]
        }
      ]
    },
    {
      "cell_type": "code",
      "source": [
        "selena_lectur = True\n",
        "\n",
        "if selena_lectur:\n",
        "  print(\"김정복\")\n",
        "else:\n",
        "  print(\"김복자\")"
      ],
      "metadata": {
        "colab": {
          "base_uri": "https://localhost:8080/"
        },
        "id": "HT2FLo7TVPQg",
        "outputId": "6be3adbb-55ec-4857-c8b3-8b2425fab605"
      },
      "execution_count": 10,
      "outputs": [
        {
          "output_type": "stream",
          "name": "stdout",
          "text": [
            "김정복\n"
          ]
        }
      ]
    },
    {
      "cell_type": "code",
      "source": [
        "score = \"C\";\n",
        "\n",
        "if score == \"A\":\n",
        "  print(\"A classs\")\n",
        "elif score == \"B\":\n",
        "  print(\"B class\")\n",
        "elif score == \"C\":\n",
        "  print(\"C class\")\n",
        "else:\n",
        "  print(\"D class\")"
      ],
      "metadata": {
        "colab": {
          "base_uri": "https://localhost:8080/"
        },
        "id": "MKhaBm_9VYJV",
        "outputId": "69c984c4-6640-4d65-f4f5-405d8cb04a1c"
      },
      "execution_count": 14,
      "outputs": [
        {
          "output_type": "stream",
          "name": "stdout",
          "text": [
            "C class\n"
          ]
        }
      ]
    },
    {
      "cell_type": "code",
      "source": [
        "# python 문자열 k가 포함되어 있지 않다면 True, 포함 되어있다면 False 출력\n",
        "if 'k' not in 'python':\n",
        "  print(True)\n",
        "else:\n",
        "  print(False)"
      ],
      "metadata": {
        "colab": {
          "base_uri": "https://localhost:8080/"
        },
        "id": "UNOi3P95VgHa",
        "outputId": "61b6fe0d-8371-4616-ef76-35c7b6930a78"
      },
      "execution_count": 17,
      "outputs": [
        {
          "output_type": "stream",
          "name": "stdout",
          "text": [
            "True\n"
          ]
        }
      ]
    },
    {
      "cell_type": "code",
      "source": [
        "# 바구니에 딸기가 없다면 pass\n",
        "basket = ['사과', '바나나']\n",
        "\n",
        "if \"딸기\" not in basket:\n",
        "  pass"
      ],
      "metadata": {
        "id": "YQhob3aRXF34"
      },
      "execution_count": 19,
      "outputs": []
    },
    {
      "cell_type": "code",
      "source": [
        "# a, b 변수 선언\n",
        "a = 3\n",
        "b = 1\n"
      ],
      "metadata": {
        "id": "qQO1pI_NXWTF"
      },
      "execution_count": 20,
      "outputs": []
    },
    {
      "cell_type": "code",
      "source": [
        "# 관계연산자 출력\n",
        "print(a==b)\n",
        "print(a != b)\n",
        "print(a < b)\n",
        "print(a > b)\n",
        "print(a <=b)\n",
        "print(a >= b)"
      ],
      "metadata": {
        "colab": {
          "base_uri": "https://localhost:8080/"
        },
        "id": "76EMW4JAdrSj",
        "outputId": "37883c90-1d42-4d47-c74a-87549b2aad6d"
      },
      "execution_count": 23,
      "outputs": [
        {
          "output_type": "stream",
          "name": "stdout",
          "text": [
            "False\n",
            "True\n",
            "False\n",
            "True\n",
            "False\n",
            "True\n"
          ]
        }
      ]
    },
    {
      "cell_type": "code",
      "source": [
        "print(not True)\n",
        "print(not False)"
      ],
      "metadata": {
        "colab": {
          "base_uri": "https://localhost:8080/"
        },
        "id": "v6NOnwAWdsYN",
        "outputId": "5300d91e-65ab-458e-9284-6f0ba4ab2f20"
      },
      "execution_count": 24,
      "outputs": [
        {
          "output_type": "stream",
          "name": "stdout",
          "text": [
            "False\n",
            "True\n"
          ]
        }
      ]
    },
    {
      "cell_type": "code",
      "source": [
        "print(True and True)\n",
        "print(True and False)"
      ],
      "metadata": {
        "colab": {
          "base_uri": "https://localhost:8080/"
        },
        "id": "Z1oRmcPxd6eY",
        "outputId": "2f8500c2-d761-4141-f660-d4ca104c149e"
      },
      "execution_count": 25,
      "outputs": [
        {
          "output_type": "stream",
          "name": "stdout",
          "text": [
            "True\n",
            "False\n"
          ]
        }
      ]
    },
    {
      "cell_type": "code",
      "source": [],
      "metadata": {
        "id": "iElA1F7Vd9ng"
      },
      "execution_count": null,
      "outputs": []
    }
  ]
}