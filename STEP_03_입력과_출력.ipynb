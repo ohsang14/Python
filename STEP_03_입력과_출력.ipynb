{
  "nbformat": 4,
  "nbformat_minor": 0,
  "metadata": {
    "colab": {
      "provenance": [],
      "authorship_tag": "ABX9TyNF9v1DYulw5ZOp8B6HSXWF",
      "include_colab_link": true
    },
    "kernelspec": {
      "name": "python3",
      "display_name": "Python 3"
    },
    "language_info": {
      "name": "python"
    }
  },
  "cells": [
    {
      "cell_type": "markdown",
      "metadata": {
        "id": "view-in-github",
        "colab_type": "text"
      },
      "source": [
        "<a href=\"https://colab.research.google.com/github/ohsang14/Python/blob/main/STEP_03_%EC%9E%85%EB%A0%A5%EA%B3%BC_%EC%B6%9C%EB%A0%A5.ipynb\" target=\"_parent\"><img src=\"https://colab.research.google.com/assets/colab-badge.svg\" alt=\"Open In Colab\"/></a>"
      ]
    },
    {
      "cell_type": "markdown",
      "source": [
        "#01.입력"
      ],
      "metadata": {
        "id": "NhfEc4g1LLBW"
      }
    },
    {
      "cell_type": "code",
      "source": [
        "#input() 함수안에 사용자에게 요구하는 내용 적기\n",
        "input(\"이름을 입력하세요: \")"
      ],
      "metadata": {
        "colab": {
          "base_uri": "https://localhost:8080/",
          "height": 54
        },
        "id": "HK_3BLvwLRqN",
        "outputId": "5c2beabd-82ef-4144-baa9-a0213d2c354b"
      },
      "execution_count": 2,
      "outputs": [
        {
          "name": "stdout",
          "output_type": "stream",
          "text": [
            "이름을 입력하세요: 옥슬이\n"
          ]
        },
        {
          "output_type": "execute_result",
          "data": {
            "text/plain": [
              "'옥슬이'"
            ],
            "application/vnd.google.colaboratory.intrinsic+json": {
              "type": "string"
            }
          },
          "metadata": {},
          "execution_count": 2
        }
      ]
    },
    {
      "cell_type": "code",
      "source": [
        "# input() 함수의 결과 값을 name 이라는 변수에 대입\n",
        "# name은 문자열로 입력을 받아서 데이터 타입은 문자열\n",
        "name = input(\"이름을 입력하세요: \")\n",
        "print(type(name))"
      ],
      "metadata": {
        "colab": {
          "base_uri": "https://localhost:8080/"
        },
        "id": "2BphZKToMXgR",
        "outputId": "9ab7fe41-fec0-4c34-d74c-730c110d93fe"
      },
      "execution_count": 4,
      "outputs": [
        {
          "output_type": "stream",
          "name": "stdout",
          "text": [
            "이름을 입력하세요: 안느\n",
            "<class 'str'>\n"
          ]
        }
      ]
    },
    {
      "cell_type": "code",
      "source": [
        "# input() 함수의 결과 값을 nmuber 이라는 변수에 대입\n",
        "# number에 숫자를 넣었지만 input() 함수는 사용자가 무엇을 입력해도 결과는 무조건 문자열 자료형\n",
        "number = input(\"가장 좋아하는 숫자를 입력해주세요: \")\n",
        "print(type(number))"
      ],
      "metadata": {
        "colab": {
          "base_uri": "https://localhost:8080/"
        },
        "id": "c7Pi2WmJMjv4",
        "outputId": "7c94dc5f-28f3-4d53-ea9a-b5f40a55b99d"
      },
      "execution_count": 5,
      "outputs": [
        {
          "output_type": "stream",
          "name": "stdout",
          "text": [
            "가장 좋아하는 숫자를 입력해주세요: 7\n",
            "<class 'str'>\n"
          ]
        }
      ]
    },
    {
      "cell_type": "code",
      "source": [
        "# input() 함수의 결과는 항상 문자열 자료형\n",
        "# int() 함수를 이용하여 숫자로 변환\n",
        "# string1, string2 변수의 타입은 문자열 자료형\n",
        "# int1, int2 변수의 타입은 숫자 자료형\n",
        "string1 = input(\"1 입력해주세요: \")\n",
        "int1 = int(string1)\n",
        "\n",
        "string2 = input(\"2 입력해주세요: \")\n",
        "int2 = int(string2)\n",
        "\n",
        "#문자열 덧셈이라서 12(숫자가 아닌 문자열) 출력\n",
        "print(string1 + string2)\n",
        "\n",
        "#숫자 덧셈이여서 1+2인 3(숫자) 출력\n",
        "print(int1 + int2)"
      ],
      "metadata": {
        "colab": {
          "base_uri": "https://localhost:8080/"
        },
        "id": "fHJfJyDHM3X-",
        "outputId": "25b7d0d8-41c2-49d0-cb6a-7e7eff7c94fc"
      },
      "execution_count": 6,
      "outputs": [
        {
          "output_type": "stream",
          "name": "stdout",
          "text": [
            "1 입력해주세요: 1\n",
            "2 입력해주세요: 2\n",
            "12\n",
            "3\n"
          ]
        }
      ]
    },
    {
      "cell_type": "code",
      "source": [
        "# str() 함수를 이용하여 문자열로 변환\n",
        "int1 = 123\n",
        "print(int1)\n",
        "print(type(int1))\n",
        "\n",
        "str1 = str(int1)\n",
        "print(str1)\n",
        "print(type(str1))"
      ],
      "metadata": {
        "colab": {
          "base_uri": "https://localhost:8080/"
        },
        "id": "4D-ZA3uFNcIW",
        "outputId": "44f005c6-1f7f-42b1-ce26-32211d3965ef"
      },
      "execution_count": 7,
      "outputs": [
        {
          "output_type": "stream",
          "name": "stdout",
          "text": [
            "123\n",
            "<class 'int'>\n",
            "123\n",
            "<class 'str'>\n"
          ]
        }
      ]
    },
    {
      "cell_type": "code",
      "source": [],
      "metadata": {
        "id": "z6d_qyjzN7fx"
      },
      "execution_count": null,
      "outputs": []
    },
    {
      "cell_type": "markdown",
      "source": [
        "#02.출력"
      ],
      "metadata": {
        "id": "Shc2IbqoOAUV"
      }
    },
    {
      "cell_type": "code",
      "source": [
        "# 큰 따옴표(\"\")로 둘러싸인 문자열은 + 연산과 동일\n",
        "# 큰 따옴표(\"\")로 둘러싸인 문자열\n",
        "# + 연산으로 사용한 문자열\n",
        "print(\"파이썬\"\"프로그래밍\"\"수업\")\n",
        "print(\"파이썬\" + \"프로그래밍\" + \"수업 \")"
      ],
      "metadata": {
        "colab": {
          "base_uri": "https://localhost:8080/"
        },
        "id": "NfWVGjrQOBEQ",
        "outputId": "c1028c70-1a1d-4abd-8c92-4696fbdd9ef7"
      },
      "execution_count": 9,
      "outputs": [
        {
          "output_type": "stream",
          "name": "stdout",
          "text": [
            "파이썬프로그래밍수업\n",
            "파이썬프로그래밍수업 \n"
          ]
        }
      ]
    },
    {
      "cell_type": "code",
      "source": [
        "# 문자열 띄어 쓰기느 콤마 사용\n",
        "print(\"파이선\",\"프로그래밍\",\"수업\")"
      ],
      "metadata": {
        "colab": {
          "base_uri": "https://localhost:8080/"
        },
        "id": "pVIecVzKObHF",
        "outputId": "22d66a2b-6e62-4cc4-f85b-45fcca0bcbee"
      },
      "execution_count": 10,
      "outputs": [
        {
          "output_type": "stream",
          "name": "stdout",
          "text": [
            "파이선 프로그래밍 수업\n"
          ]
        }
      ]
    },
    {
      "cell_type": "code",
      "source": [],
      "metadata": {
        "id": "dz2wsrqiOioi"
      },
      "execution_count": null,
      "outputs": []
    },
    {
      "cell_type": "markdown",
      "source": [
        "#03.파일 입출력"
      ],
      "metadata": {
        "id": "dyES3IbMO7Ht"
      }
    },
    {
      "cell_type": "code",
      "source": [
        "# 파일 열기\n",
        "# 왼쪽 파일 메뉴에 \"python.txt\" 생성된 걸 확인\n",
        "# w: write 모드(쓰기모드, 파일에 내용을 쓸 때 사용)\n",
        "\n",
        "myFile = open(\"python.txt\",\"w\")"
      ],
      "metadata": {
        "id": "CQ6NkdO0O8us"
      },
      "execution_count": 21,
      "outputs": []
    },
    {
      "cell_type": "code",
      "source": [
        "# 파일 열고 쓰고 닫기\n",
        "myFile = open(\"python.txt\", \"w\")\n",
        "myFile.write(\"programming\")\n",
        "myFile.close()"
      ],
      "metadata": {
        "id": "EaP40RL0Plg0"
      },
      "execution_count": 22,
      "outputs": []
    },
    {
      "cell_type": "code",
      "source": [
        "# 2줄의 내용을 가진 파일 열고 쓰고 닫기\n",
        "myFile = open(\"Python_read.txt\", \"w\")\n",
        "myFile.write(\"Programming! \\n Hello\")\n",
        "myFile.close()"
      ],
      "metadata": {
        "id": "jxk5q7kQQJDh"
      },
      "execution_count": 26,
      "outputs": []
    },
    {
      "cell_type": "code",
      "source": [
        "# 만들어준 Python_read.txt 파일을 읽기 모드로 열기\n",
        "read_file = open(\"Python_read.txt\", \"r\")"
      ],
      "metadata": {
        "id": "9yGAvr4cQoAN"
      },
      "execution_count": 27,
      "outputs": []
    },
    {
      "cell_type": "code",
      "source": [
        "# readline(): 텍스트 한 줄씩 읽어서 변환\n",
        "# 한 줄 씩 읽어 출력할 떄 줄 끝에 \\n 문작 ㅏ있다면 빈 줄도 같이 출력함\n",
        "# 출력할 때마다 한 줄 씩 내려가서 출력됨\n",
        "# 한 번씩 실행하면 \"Programming! \\n\".\n",
        "# 두 번 실행하면 \"Hello 출력\n",
        "\n",
        "text = read_file.readline()\n",
        "print(text)"
      ],
      "metadata": {
        "colab": {
          "base_uri": "https://localhost:8080/"
        },
        "id": "S6CNP0EIQ42q",
        "outputId": "21e0e56f-176e-4036-883b-4d8356a6ddd9"
      },
      "execution_count": 31,
      "outputs": [
        {
          "output_type": "stream",
          "name": "stdout",
          "text": [
            "\n"
          ]
        }
      ]
    },
    {
      "cell_type": "code",
      "source": [
        "# 만들어준 Python_read.txt 파일을 읽기 모드로 열기\n",
        "read_file = open(\"Python_read.txt\", \"r\")"
      ],
      "metadata": {
        "id": "IctTUpwkSPBc"
      },
      "execution_count": 37,
      "outputs": []
    },
    {
      "cell_type": "code",
      "source": [
        "# readlines() : 파일의 모든 줄을 읽어서 각각의 줄을 리스트로 반환\n",
        "all_text = read_file.readlines()\n",
        "print(all_text)"
      ],
      "metadata": {
        "colab": {
          "base_uri": "https://localhost:8080/"
        },
        "id": "pAhphRTBScya",
        "outputId": "b67c6c0f-25f4-4ab7-b3a1-a2e2139ad23b"
      },
      "execution_count": 38,
      "outputs": [
        {
          "output_type": "stream",
          "name": "stdout",
          "text": [
            "['Programming! \\n', ' Hello']\n"
          ]
        }
      ]
    },
    {
      "cell_type": "code",
      "source": [
        "# 만들어준 Python_read.txt 파일을 읽기 모드로 열기\n",
        "read_file = open(\"Python_read.txt\", \"r\")"
      ],
      "metadata": {
        "id": "gU_WsfHnSlat"
      },
      "execution_count": 39,
      "outputs": []
    },
    {
      "cell_type": "code",
      "source": [
        "# strip() : 줄 바꿈(\\n) 문자 제거\n",
        "test_strip = read_file.readline().strip()\n",
        "print(test_strip)"
      ],
      "metadata": {
        "colab": {
          "base_uri": "https://localhost:8080/"
        },
        "id": "P61FSYnuTHDZ",
        "outputId": "bba2d5b5-5684-432d-dcbe-8bd6d057904b"
      },
      "execution_count": 42,
      "outputs": [
        {
          "output_type": "stream",
          "name": "stdout",
          "text": [
            "\n"
          ]
        }
      ]
    },
    {
      "cell_type": "code",
      "source": [],
      "metadata": {
        "id": "JvACIzA6TQQe"
      },
      "execution_count": null,
      "outputs": []
    }
  ]
}