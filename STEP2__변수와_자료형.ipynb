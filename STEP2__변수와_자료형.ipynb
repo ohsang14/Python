{
  "nbformat": 4,
  "nbformat_minor": 0,
  "metadata": {
    "colab": {
      "provenance": [],
      "authorship_tag": "ABX9TyOd/kWC+dMBahGmiGkXzz3s",
      "include_colab_link": true
    },
    "kernelspec": {
      "name": "python3",
      "display_name": "Python 3"
    },
    "language_info": {
      "name": "python"
    }
  },
  "cells": [
    {
      "cell_type": "markdown",
      "metadata": {
        "id": "view-in-github",
        "colab_type": "text"
      },
      "source": [
        "<a href=\"https://colab.research.google.com/github/ohsang14/Python/blob/main/STEP2__%EB%B3%80%EC%88%98%EC%99%80_%EC%9E%90%EB%A3%8C%ED%98%95.ipynb\" target=\"_parent\"><img src=\"https://colab.research.google.com/assets/colab-badge.svg\" alt=\"Open In Colab\"/></a>"
      ]
    },
    {
      "cell_type": "markdown",
      "source": [
        "# 문자열 자료형 I"
      ],
      "metadata": {
        "id": "ryxKuwsqeV98"
      }
    },
    {
      "cell_type": "code",
      "execution_count": 4,
      "metadata": {
        "colab": {
          "base_uri": "https://localhost:8080/"
        },
        "id": "EZmyT832WIcT",
        "outputId": "6878e7bc-ab23-4b4e-c417-4a00ba0f36d1"
      },
      "outputs": [
        {
          "output_type": "stream",
          "name": "stdout",
          "text": [
            "hello\n"
          ]
        }
      ],
      "source": [
        "# 큰 따옴표로 문자열 만들기\n",
        "# word 변수에 큰 따옴표 문자열 저장하여 출력\n",
        "word = \"hello\"\n",
        "print(word)"
      ]
    },
    {
      "cell_type": "code",
      "source": [
        "# 작은 따옴표로 문자열 만들기\n",
        "print('hello')"
      ],
      "metadata": {
        "colab": {
          "base_uri": "https://localhost:8080/"
        },
        "id": "sdnI_ZJLWf8h",
        "outputId": "75cce98e-0c67-4cf1-eb7a-45d83e3bef30"
      },
      "execution_count": 5,
      "outputs": [
        {
          "output_type": "stream",
          "name": "stdout",
          "text": [
            "hello\n"
          ]
        }
      ]
    },
    {
      "cell_type": "code",
      "source": [
        "# 문자열 내부에 큰 따옴표 안에 작은 따옴표 넣기\n",
        "print(\"I'm smart\")"
      ],
      "metadata": {
        "colab": {
          "base_uri": "https://localhost:8080/"
        },
        "id": "a_4VGcQfWnvt",
        "outputId": "92e27b93-9d3c-4eae-9f0f-bcf48b6f0bc4"
      },
      "execution_count": 6,
      "outputs": [
        {
          "output_type": "stream",
          "name": "stdout",
          "text": [
            "I'm smart\n"
          ]
        }
      ]
    },
    {
      "cell_type": "code",
      "source": [
        "# 이스케이프 문자를 사용해 문자열 만들기\n",
        "# 이스케이프 문자는 역슬래쉬(\\) 기호와 할께 조합해서 사용하는 특수문자를 의미\n",
        "# \\와 함꼐 사용하면'문자열을 만드는 기호' 가 아니라 \\단순한 따옴표\\ 로 인식\n",
        "print('아시 안느를 `아세요?`넨네')"
      ],
      "metadata": {
        "colab": {
          "base_uri": "https://localhost:8080/"
        },
        "id": "qkax62q_WswX",
        "outputId": "fdd46e9b-ced1-4ce1-a56e-1c6f84c91035"
      },
      "execution_count": 22,
      "outputs": [
        {
          "output_type": "stream",
          "name": "stdout",
          "text": [
            "아시 안느를 `아세요?`넨네\n"
          ]
        }
      ]
    },
    {
      "cell_type": "code",
      "source": [
        "# 여러 줄 문자열 만들기\n",
        "# 큰 따옴표 또는 작은 따옴표를 3번 반복한 기호를 사용\n",
        "# Enter를 누르는 곳마다 줄바꿈이 일어남\n",
        "sentence = \"\"\"\n",
        "글을 쓰고 싶다\n",
        "옥슬아\n",
        "안느야\n",
        "\"\"\"\n",
        "print(sentence)"
      ],
      "metadata": {
        "colab": {
          "base_uri": "https://localhost:8080/"
        },
        "id": "jZhPlWlyY_ww",
        "outputId": "28bf6f89-acb6-4005-99a4-2ea476a4bf9f"
      },
      "execution_count": 23,
      "outputs": [
        {
          "output_type": "stream",
          "name": "stdout",
          "text": [
            "\n",
            "글을 쓰고 싶다\n",
            "옥슬아\n",
            "안느야\n",
            "\n"
          ]
        }
      ]
    },
    {
      "cell_type": "code",
      "source": [
        "# 줄 바꿈 없이 문자열 만들기\n",
        "# 큰 따옴표 또는 작은 따옴표를 3번 반복한 기호만 사용하면 위 아래로 의도하지 않은 줄바꿈이 생김\n",
        "# 역슬래쉬(\\) 기호를 사용하면 의도하지 않은 줄바꿈이 사라짐\n",
        "\n",
        "sentence = \"\"\"\\\n",
        "옥슬아\n",
        "안느야\n",
        "안느야\\\n",
        "\"\"\"\n",
        "print(sentence)"
      ],
      "metadata": {
        "colab": {
          "base_uri": "https://localhost:8080/"
        },
        "id": "m_uJzpJ9W-AC",
        "outputId": "6c90a6cb-6d11-4710-ba1d-e980e3c49a54"
      },
      "execution_count": 38,
      "outputs": [
        {
          "output_type": "stream",
          "name": "stdout",
          "text": [
            "옥슬아\n",
            "안느야\n",
            "안느야\n"
          ]
        }
      ]
    },
    {
      "cell_type": "code",
      "source": [
        "sentence1 = \"1\\n2\"\n",
        "sentence2 = \"3\\t4\"\n",
        "sentence3 = '\\'작은 따옴표\\' 출력'\n",
        "sentence4 = \"\\\"큰 따옴표\\\" 출력\"\n",
        "print(sentence1)\n",
        "print(sentence2)\n",
        "print(sentence3)\n",
        "print(sentence4)"
      ],
      "metadata": {
        "colab": {
          "base_uri": "https://localhost:8080/"
        },
        "id": "3jcBhhqDYOu7",
        "outputId": "e8714448-1de9-4aed-beeb-a2205e66f7eb"
      },
      "execution_count": 42,
      "outputs": [
        {
          "output_type": "stream",
          "name": "stdout",
          "text": [
            "1\n",
            "2\n",
            "3\t4\n",
            "'작은 따옴표' 출력\n",
            "\"큰 따옴표\" 출력\n"
          ]
        }
      ]
    },
    {
      "cell_type": "code",
      "source": [
        "# [+] 문자열 연결 연산자\n",
        "a = \"파이썬!\"\n",
        "b = \"프로그래밍 !\"\n",
        "print(a+b)"
      ],
      "metadata": {
        "colab": {
          "base_uri": "https://localhost:8080/"
        },
        "id": "mYY-xyotcyK8",
        "outputId": "74319f38-0044-4c2c-8e75-9c306ec1eccd"
      },
      "execution_count": 44,
      "outputs": [
        {
          "output_type": "stream",
          "name": "stdout",
          "text": [
            "파이썬!프로그래밍 !\n"
          ]
        }
      ]
    },
    {
      "cell_type": "code",
      "source": [
        "# [*] 문자열 반복 연산자\n",
        "equal = \"=\" * 30\n",
        "sentence = equal + \"\\n 파이썬을 제대로 공부해보자!\\n\" + equal\n",
        "print(sentence)"
      ],
      "metadata": {
        "colab": {
          "base_uri": "https://localhost:8080/"
        },
        "id": "tZ88dKuXc4Qe",
        "outputId": "c860c609-e19e-43d8-fcaf-1fd4d0bac88b"
      },
      "execution_count": 46,
      "outputs": [
        {
          "output_type": "stream",
          "name": "stdout",
          "text": [
            "==============================\n",
            " 파이썬을 제대로 공부해보자!\n",
            "==============================\n"
          ]
        }
      ]
    },
    {
      "cell_type": "code",
      "source": [
        "# 문자열 인덱싱: 문자 하나 선택\n",
        "#     012  3 4567 8 910111213\n",
        "\n",
        "sentence = '파이썬 하루만에 끝내보자!'"
      ],
      "metadata": {
        "id": "VX_YdfVwdIKQ"
      },
      "execution_count": 47,
      "outputs": []
    },
    {
      "cell_type": "code",
      "source": [
        "# 문자열 [인덱스]로 호출\n",
        "# 순방향 인덱스 : 0부터 시작\n",
        "# 역방향 인덱스 : -1 부터 시작\n",
        "print(sentence)\n",
        "print(sentence[0])\n",
        "print(sentence[-1])"
      ],
      "metadata": {
        "colab": {
          "base_uri": "https://localhost:8080/"
        },
        "id": "yQmwLl_UdYEu",
        "outputId": "19b8ca43-4cfc-41d9-b630-4cd3426b80b8"
      },
      "execution_count": 49,
      "outputs": [
        {
          "output_type": "stream",
          "name": "stdout",
          "text": [
            "파이썬 하루만에 끝내보자!\n",
            "파\n",
            "!\n"
          ]
        }
      ]
    },
    {
      "cell_type": "code",
      "source": [
        "# 문자열 슬라이싱: 특정 범위 선택\n",
        "sentence = \"파이썬 하루만에 끝내보자!\""
      ],
      "metadata": {
        "id": "UNkN9unjdkTB"
      },
      "execution_count": 51,
      "outputs": []
    },
    {
      "cell_type": "code",
      "source": [
        "# 문자열[인덱스] : 인덱스2]로 호출\n",
        "# 4:8 = 4,5,6,7\n",
        "# 4 이상부터 8 미만까지 출력\n",
        "# 마지막 수는 포함 x\n",
        "\n",
        "print(sentence)\n",
        "print(sentence[4:8])"
      ],
      "metadata": {
        "colab": {
          "base_uri": "https://localhost:8080/"
        },
        "id": "JYD1LltLd2y4",
        "outputId": "7783d7bb-a6b6-4aed-eb63-df9ad7cf3a16"
      },
      "execution_count": 52,
      "outputs": [
        {
          "output_type": "stream",
          "name": "stdout",
          "text": [
            "파이썬 하루만에 끝내보자!\n",
            "하루만에\n"
          ]
        }
      ]
    },
    {
      "cell_type": "markdown",
      "source": [
        "# 문자열 자료형 II"
      ],
      "metadata": {
        "id": "iz-XUTayesbc"
      }
    },
    {
      "cell_type": "code",
      "source": [
        "# 한 개의 % 연산자 포맷팅\n",
        "# 숫자 대입은 %d\n",
        "sentence = \"나는 %d호선을 타고 다녀.\" %6\n",
        "print(sentence)"
      ],
      "metadata": {
        "colab": {
          "base_uri": "https://localhost:8080/"
        },
        "id": "MpbROyK_e5OE",
        "outputId": "a3a3e657-9abf-4786-b3d3-65b367d8b134"
      },
      "execution_count": 53,
      "outputs": [
        {
          "output_type": "stream",
          "name": "stdout",
          "text": [
            "나는 6호선을 타고 다녀.\n"
          ]
        }
      ]
    },
    {
      "cell_type": "code",
      "source": [
        "# 두 개의 이상의 % 연산자 포맷팅\n",
        "# 숫자 나타내는 변수와 문자를 나타내는 변수 대입\n",
        "# 숫자 대입은 #d. 문자 대입은 %s\n",
        "a = 4\n",
        "b = \"학교\"\n",
        "sentence = \"나는 %d호선을 타고 %s로 가.\" % (a,b)\n",
        "print(sentence)"
      ],
      "metadata": {
        "colab": {
          "base_uri": "https://localhost:8080/"
        },
        "id": "0-omviMLgbFT",
        "outputId": "575ef4af-ada2-46ba-9a31-5921cb8b345d"
      },
      "execution_count": 54,
      "outputs": [
        {
          "output_type": "stream",
          "name": "stdout",
          "text": [
            "나는 4호선을 타고 학교로 가.\n"
          ]
        }
      ]
    },
    {
      "cell_type": "code",
      "source": [],
      "metadata": {
        "id": "VMcgCthkgug2"
      },
      "execution_count": null,
      "outputs": []
    }
  ]
}