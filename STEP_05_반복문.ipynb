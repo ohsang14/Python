{
  "nbformat": 4,
  "nbformat_minor": 0,
  "metadata": {
    "colab": {
      "provenance": [],
      "authorship_tag": "ABX9TyMeMivLF6NP98aflcocWaYS",
      "include_colab_link": true
    },
    "kernelspec": {
      "name": "python3",
      "display_name": "Python 3"
    },
    "language_info": {
      "name": "python"
    }
  },
  "cells": [
    {
      "cell_type": "markdown",
      "metadata": {
        "id": "view-in-github",
        "colab_type": "text"
      },
      "source": [
        "<a href=\"https://colab.research.google.com/github/ohsang14/Python/blob/main/STEP_05_%EB%B0%98%EB%B3%B5%EB%AC%B8.ipynb\" target=\"_parent\"><img src=\"https://colab.research.google.com/assets/colab-badge.svg\" alt=\"Open In Colab\"/></a>"
      ]
    },
    {
      "cell_type": "markdown",
      "source": [
        "#01.For반복문"
      ],
      "metadata": {
        "id": "7N7Om3ghcdmM"
      }
    },
    {
      "cell_type": "code",
      "source": [
        "# print(\"Selena 파이썬 프로그래밍\") 코드를 5번 반복하고 싶을 때\n",
        "# range() 함수를 사용하여 0부터 5미만까지 5번 반복\n",
        "for i in range(5):\n",
        "  print(\"Selena 파이썬 프로그래밍\")"
      ],
      "metadata": {
        "colab": {
          "base_uri": "https://localhost:8080/"
        },
        "id": "bPPExM55ciM3",
        "outputId": "36f422ee-ea7e-4ef8-9fdd-4cc7fa01e225"
      },
      "execution_count": 2,
      "outputs": [
        {
          "output_type": "stream",
          "name": "stdout",
          "text": [
            "Selena 파이썬 프로그래밍\n",
            "Selena 파이썬 프로그래밍\n",
            "Selena 파이썬 프로그래밍\n",
            "Selena 파이썬 프로그래밍\n",
            "Selena 파이썬 프로그래밍\n"
          ]
        }
      ]
    },
    {
      "cell_type": "code",
      "source": [
        "# myList 변수에 국가명인 'korea' 문자열을 넣고 반복문으로 출력\n",
        "myList = 'Korea'\n",
        "\n",
        "for a in myList:\n",
        "  print(a)"
      ],
      "metadata": {
        "colab": {
          "base_uri": "https://localhost:8080/"
        },
        "id": "GjCCGr6gc7QQ",
        "outputId": "9d8bbace-a1f7-4b99-9f87-d79b14f202f8"
      },
      "execution_count": 3,
      "outputs": [
        {
          "output_type": "stream",
          "name": "stdout",
          "text": [
            "K\n",
            "o\n",
            "r\n",
            "e\n",
            "a\n"
          ]
        }
      ]
    },
    {
      "cell_type": "code",
      "source": [
        "# myList 변수에 국가명이 담긴 리스트를 넣고 반복문으로 출력\n",
        "myList = [\"korea\", \"USA\", \"Japan\"]\n",
        "\n",
        "for a in myList:\n",
        "  print(a)"
      ],
      "metadata": {
        "colab": {
          "base_uri": "https://localhost:8080/"
        },
        "id": "DjXyVPUAdOPF",
        "outputId": "9b02b761-753f-4786-9df2-ec6826d841f8"
      },
      "execution_count": 4,
      "outputs": [
        {
          "output_type": "stream",
          "name": "stdout",
          "text": [
            "korea\n",
            "USA\n",
            "Japan\n"
          ]
        }
      ]
    },
    {
      "cell_type": "code",
      "source": [
        "# 딕셔너리 생성\n",
        "myDictionary = {\n",
        "    \"name\" : \"Selena\",\n",
        "    \"job\" : \"data scientist\"\n",
        "}"
      ],
      "metadata": {
        "id": "enxytf_ads17"
      },
      "execution_count": 5,
      "outputs": []
    },
    {
      "cell_type": "code",
      "source": [
        "# 딕셔너리 안에 있는 키가 변수로 들어감\n",
        "# key 값과 myDictionary 내용을 반복문으로 출력\n",
        "for key in myDictionary:\n",
        "  print(key, \":\", myDictionary[key])"
      ],
      "metadata": {
        "colab": {
          "base_uri": "https://localhost:8080/"
        },
        "id": "ImE_fnhheEoX",
        "outputId": "f67e47e2-013e-4333-b61b-35b8b1193ed1"
      },
      "execution_count": 6,
      "outputs": [
        {
          "output_type": "stream",
          "name": "stdout",
          "text": [
            "name : Selena\n",
            "job : data scientist\n"
          ]
        }
      ]
    },
    {
      "cell_type": "code",
      "source": [
        "# range() 함수를 바로 출력하면 range(0,5)로 출력됨\n",
        "print(range(5))"
      ],
      "metadata": {
        "colab": {
          "base_uri": "https://localhost:8080/"
        },
        "id": "g9o_dQctea2l",
        "outputId": "a9f97530-68f9-49e0-e681-ed6c479acbee"
      },
      "execution_count": 8,
      "outputs": [
        {
          "output_type": "stream",
          "name": "stdout",
          "text": [
            "range(0, 5)\n"
          ]
        }
      ]
    },
    {
      "cell_type": "code",
      "source": [
        "# list() 함수를 이용해 범위를 리스트로 변경하면 범위 내부에 어떤 값이 있는지 확인 가능\n",
        "# range() 함수의 매개변수 개수에 따른 결과 값 출력\n",
        "print(list((range(5))))\n",
        "print(list(range(5, 10)))\n",
        "print(list(range(5,10,2)))"
      ],
      "metadata": {
        "colab": {
          "base_uri": "https://localhost:8080/"
        },
        "id": "CIQ3PEk1ezH7",
        "outputId": "ecfeb74c-c794-4ab8-d598-7da69bf98b6b"
      },
      "execution_count": 9,
      "outputs": [
        {
          "output_type": "stream",
          "name": "stdout",
          "text": [
            "[0, 1, 2, 3, 4]\n",
            "[5, 6, 7, 8, 9]\n",
            "[5, 7, 9]\n"
          ]
        }
      ]
    },
    {
      "cell_type": "code",
      "source": [
        "# range() 함수를 사용하여 5번 반복\n",
        "# 0부터 5미만까지 반복\n",
        "for i in range(5):\n",
        "  print(i)"
      ],
      "metadata": {
        "colab": {
          "base_uri": "https://localhost:8080/"
        },
        "id": "la13kNoufBhM",
        "outputId": "abc3d523-7922-498e-b757-d59063ca3d95"
      },
      "execution_count": 10,
      "outputs": [
        {
          "output_type": "stream",
          "name": "stdout",
          "text": [
            "0\n",
            "1\n",
            "2\n",
            "3\n",
            "4\n"
          ]
        }
      ]
    },
    {
      "cell_type": "code",
      "source": [
        "# 3부터 시작해서 , 20 미만의 수를 4간격으로 출력\n",
        "for i in range(3,20,4):\n",
        "  print(i)"
      ],
      "metadata": {
        "colab": {
          "base_uri": "https://localhost:8080/"
        },
        "id": "02gsIsI_fT03",
        "outputId": "10c765a2-56c2-495b-b6b4-dbbab4bde06f"
      },
      "execution_count": 11,
      "outputs": [
        {
          "output_type": "stream",
          "name": "stdout",
          "text": [
            "3\n",
            "7\n",
            "11\n",
            "15\n",
            "19\n"
          ]
        }
      ]
    },
    {
      "cell_type": "code",
      "source": [],
      "metadata": {
        "id": "4DYhiIvBfbQi"
      },
      "execution_count": null,
      "outputs": []
    },
    {
      "cell_type": "markdown",
      "source": [
        "#02.while반복문"
      ],
      "metadata": {
        "id": "Fq_iYTxSffOA"
      }
    },
    {
      "cell_type": "code",
      "source": [
        "# count 변수가 5가 될 떄까지 반복하여 count 출력\n",
        "count = 0\n",
        "\n",
        "while count < 5:\n",
        "  print(\"count: \", count)\n",
        "  count = count +1"
      ],
      "metadata": {
        "colab": {
          "base_uri": "https://localhost:8080/"
        },
        "id": "eGB-jUpdfg7B",
        "outputId": "838f4399-eb51-462a-954d-a09650aa5216"
      },
      "execution_count": 12,
      "outputs": [
        {
          "output_type": "stream",
          "name": "stdout",
          "text": [
            "count:  0\n",
            "count:  1\n",
            "count:  2\n",
            "count:  3\n",
            "count:  4\n"
          ]
        }
      ]
    },
    {
      "cell_type": "code",
      "source": [
        "# 반복문 조건은 'a가 3보다 클 때 반복을 시켜줘'\n",
        "# a를 10으로 초기 값을 부여하여 반복문의 조건은 항상 참이 나옴\n",
        "# 그래서 무한 반복문이 됨\n",
        "# break 키워드를 통해 'count가 20보다 클 때 반복을 멈춰' 실행하여 무한 반복문을 빠져나옴\n",
        "a =10\n",
        "count = 0\n",
        "\n",
        "while a > 3:\n",
        "  count = count +1\n",
        "  a= a+1\n",
        "  if count > 20:\n",
        "    break\n",
        "  print(\"a =\" , a,\" \\t count = \", count)\n",
        "\n",
        "print(\"반복문 종료\")"
      ],
      "metadata": {
        "colab": {
          "base_uri": "https://localhost:8080/"
        },
        "id": "CdQoRVETfxyi",
        "outputId": "978d3101-67d0-40c3-c94e-38e7258c38d0"
      },
      "execution_count": 19,
      "outputs": [
        {
          "output_type": "stream",
          "name": "stdout",
          "text": [
            "a = 11  \t count =  1\n",
            "a = 12  \t count =  2\n",
            "a = 13  \t count =  3\n",
            "a = 14  \t count =  4\n",
            "a = 15  \t count =  5\n",
            "a = 16  \t count =  6\n",
            "a = 17  \t count =  7\n",
            "a = 18  \t count =  8\n",
            "a = 19  \t count =  9\n",
            "a = 20  \t count =  10\n",
            "a = 21  \t count =  11\n",
            "a = 22  \t count =  12\n",
            "a = 23  \t count =  13\n",
            "a = 24  \t count =  14\n",
            "a = 25  \t count =  15\n",
            "a = 26  \t count =  16\n",
            "a = 27  \t count =  17\n",
            "a = 28  \t count =  18\n",
            "a = 29  \t count =  19\n",
            "a = 30  \t count =  20\n",
            "반복문 종료\n"
          ]
        }
      ]
    },
    {
      "cell_type": "code",
      "source": [
        "# 반복문 조건은 'num이 10보다 작을 때 반복을 시켜줘'\n",
        "# num이 5 이하일 때 continue 키워드를 사용해여\n",
        "# 현재 반복을 생략하고 다음 반복으로 넘어가서 print가 안 됨\n",
        "# num이 5 초과일 떄 print 됨\n",
        "num =0\n",
        "\n",
        "while num < 10:\n",
        "  num = num + 1\n",
        "  if num <=5:\n",
        "    continue\n",
        "  print(num)"
      ],
      "metadata": {
        "colab": {
          "base_uri": "https://localhost:8080/"
        },
        "id": "LieR37H0hKls",
        "outputId": "db7ba9e0-5eec-4c53-ef77-9c584c45ec4d"
      },
      "execution_count": 21,
      "outputs": [
        {
          "output_type": "stream",
          "name": "stdout",
          "text": [
            "6\n",
            "7\n",
            "8\n",
            "9\n",
            "10\n"
          ]
        }
      ]
    },
    {
      "cell_type": "code",
      "source": [],
      "metadata": {
        "id": "M8lLDJ51zgwK"
      },
      "execution_count": null,
      "outputs": []
    }
  ]
}